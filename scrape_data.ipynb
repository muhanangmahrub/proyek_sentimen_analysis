{
 "cells": [
  {
   "cell_type": "code",
   "execution_count": 1,
   "id": "6d55024a-f54f-4814-8d8a-6b508a7f8d30",
   "metadata": {},
   "outputs": [],
   "source": [
    "from google_play_scraper import app, Sort, reviews_all\n",
    "import pandas as pd\n",
    "import numpy as np\n",
    "\n",
    "result = app(\n",
    "    'com.bpjstku',\n",
    "    lang='id',\n",
    "    country='id'\n",
    ")"
   ]
  },
  {
   "cell_type": "code",
   "execution_count": 2,
   "id": "c0e66fca-095d-4f22-bde3-6e801a834153",
   "metadata": {},
   "outputs": [
    {
     "name": "stdout",
     "output_type": "stream",
     "text": [
      "{'title': 'JMO (Jamsostek Mobile)', 'description': 'Inovasi terbaru layanan digital dari BPJS Ketenagakerjaan\\r\\n\\r\\nJMO memudahkanmu dalam memenuhi kebutuhan layanan digital BPJAMSOSTEK tanpa harus ke kantor cabang, kena macet, panas, hujan dan antrian yang bikin meriang.\\r\\n\\r\\nHadir dengan berbagai fitur :\\r\\n1. Pengkinian Data\\r\\n2. Pengajuan & Lacak Klaim JHT\\r\\n3. Kemudahan Daftar & Pembayaran Iuran Segmen BPU\\r\\n4. Simulasi Saldo JHT dan JP\\r\\n5. Cek Saldo\\r\\n6. Kartu digital \\r\\n7. Lokasi Kanal Pelayanan\\r\\n8. Promo\\r\\n9. Berita\\r\\n10. Pengaduan\\r\\n11. Laporan \\r\\n12. Informasi Manfaat\\r\\n\\r\\n\\r\\nUnduh JMO sekarang!\\r\\nBerubah untuk lebih mudah!\\r\\n\\r\\nInformasi lebih lanjut silahkan menghubungi pusat layanan BPJS Ketenagakerjaan :\\r\\nCall center : 175\\r\\nTwitter : @bpjstkinfo\\r\\nFacebook : BPJS Ketenagakerjaan\\r\\nWebsite : http://www.bpjsketenagakerjaan.go.id\\r\\nEmail : care@bpjsketenagakerjaan.go.id', 'descriptionHTML': 'Inovasi terbaru layanan digital dari BPJS Ketenagakerjaan<br><br>JMO memudahkanmu dalam memenuhi kebutuhan layanan digital BPJAMSOSTEK tanpa harus ke kantor cabang, kena macet, panas, hujan dan antrian yang bikin meriang.<br><br>Hadir dengan berbagai fitur :<br>1. Pengkinian Data<br>2. Pengajuan &amp; Lacak Klaim JHT<br>3. Kemudahan Daftar &amp; Pembayaran Iuran Segmen BPU<br>4. Simulasi Saldo JHT dan JP<br>5. Cek Saldo<br>6. Kartu digital <br>7. Lokasi Kanal Pelayanan<br>8. Promo<br>9. Berita<br>10. Pengaduan<br>11. Laporan <br>12. Informasi Manfaat<br><br><br>Unduh JMO sekarang!<br>Berubah untuk lebih mudah!<br><br>Informasi lebih lanjut silahkan menghubungi pusat layanan BPJS Ketenagakerjaan :<br>Call center : 175<br>Twitter : @bpjstkinfo<br>Facebook : BPJS Ketenagakerjaan<br>Website : http://www.bpjsketenagakerjaan.go.id<br>Email : care@bpjsketenagakerjaan.go.id', 'summary': 'JMO (Jamsostek Mobile) - Klaim JHT, Lacak Klaim, Cek Saldo, dan Pengkinian Data', 'installs': '10.000.000+', 'minInstalls': 10000000, 'realInstalls': 40003418, 'score': 4.79303, 'ratings': 3147321, 'reviews': 463359, 'histogram': [54063, 21527, 63173, 244214, 2764340], 'price': 0, 'free': True, 'currency': 'IDR', 'sale': False, 'saleTime': None, 'originalPrice': None, 'saleText': None, 'offersIAP': False, 'inAppProductPrice': None, 'developer': 'BPJS Ketenagakerjaan Official', 'developerId': 'BPJS+Ketenagakerjaan+Official', 'developerEmail': 'care@bpjsketenagakerjaan.go.id', 'developerWebsite': 'http://www.bpjsketenagakerjaan.go.id', 'developerAddress': None, 'privacyPolicy': 'https://www.bpjsketenagakerjaan.go.id/jmo/kebijakan-privasi.html', 'genre': 'Keuangan', 'genreId': 'FINANCE', 'categories': [{'name': 'Keuangan', 'id': 'FINANCE'}], 'icon': 'https://play-lh.googleusercontent.com/ivLsnKV-iepAMvH3h71ViAKAA9hpYDE5TCV-1unGpeRbeyowlqYHLd64YIR6HbODvAKN', 'headerImage': 'https://play-lh.googleusercontent.com/3ybomlHt6vG-T6eAlyCr7xpIp4FuO_1e6GAIN3FcFph8JU5mfvThlVtW3OWX2POuqg', 'screenshots': ['https://play-lh.googleusercontent.com/xu0QzlANR5BrYauzesIAnXyey9c5s1FO1S2vMq95hMwxNGOI89h4lIWLL9qwNHbUTxzf', 'https://play-lh.googleusercontent.com/AtBePZ4C4wyXMCD90zpqjHqcDbvvnXKRkJCcoCDOUWx2JEnD7YTuO09vzIMGTjHmWro', 'https://play-lh.googleusercontent.com/jcnEJCiw-q1gM9o6BN6hwW2HeJHa_3giTOniQoBnhuxG4rfpdHpIVH6YttSLf957y2A', 'https://play-lh.googleusercontent.com/ROpjWX00csDY4D1LveTMcQukEcIZz0khun1UZrBh4-1MayenU0xIPTkG8g6EpeQ7q84', 'https://play-lh.googleusercontent.com/o5pev53F7q_dA1LQ37DVRzPeQVRLsyl8wa-8Xri6u4vsdcY1M168KpDih-R1L_8WRg'], 'video': 'https://www.youtube.com/embed/VDuBlUKFYUg?ps=play&vq=large&rel=0&autohide=1&showinfo=0', 'videoImage': 'https://play-lh.googleusercontent.com/3ybomlHt6vG-T6eAlyCr7xpIp4FuO_1e6GAIN3FcFph8JU5mfvThlVtW3OWX2POuqg', 'contentRating': 'Rating 3+', 'contentRatingDescription': None, 'adSupported': False, 'containsAds': False, 'released': '19 Feb 2018', 'lastUpdatedOn': '8 Sep 2024', 'updated': 1725855382, 'version': '4.13.4', 'comments': [], 'appId': 'com.bpjstku', 'url': 'https://play.google.com/store/apps/details?id=com.bpjstku&hl=id&gl=id'}\n"
     ]
    }
   ],
   "source": [
    "print(result)"
   ]
  },
  {
   "cell_type": "code",
   "execution_count": 3,
   "id": "25c44279-ecf8-46b4-9c3f-383bcf35b333",
   "metadata": {},
   "outputs": [],
   "source": [
    "all_reviews = reviews_all(\n",
    "    'com.bpjstku',\n",
    "    lang='id',\n",
    "    country='id',\n",
    "    sort=Sort.NEWEST,\n",
    "    sleep_milliseconds=0,\n",
    "    count=15000,\n",
    "    filter_score_with=None\n",
    ")"
   ]
  },
  {
   "cell_type": "code",
   "execution_count": 4,
   "id": "9c0b5abf-831c-48ba-83f4-bdaebee1029d",
   "metadata": {},
   "outputs": [
    {
     "name": "stdout",
     "output_type": "stream",
     "text": [
      "{'reviewId': '9e90f9a0-89e3-4fbe-8efe-605fc6cd37f1', 'userName': 'Pengguna Google', 'userImage': 'https://play-lh.googleusercontent.com/EGemoI2NTXmTsBVtJqk8jxF9rh8ApRWfsIMQSt2uE4OcpQqbFu7f7NbTK05lx80nuSijCz7sc3a277R67g', 'content': 'Sellalu gak ada jaringan', 'score': 2, 'thumbsUpCount': 0, 'reviewCreatedVersion': '4.13.4', 'at': datetime.datetime(2024, 9, 23, 21, 56, 20), 'replyContent': 'Yth. Bapak/Ibu pengguna aplikasi BPJS Ketenagakerjaan, mohon maaf atas ketidaknyamanannya. BPJS Ketenagakerjaan terus melakukan peningkatan aplikasi. Mohon dicoba secara berkala dan melakukan pembaruan aplikasi. Jika membutuhkan informasi lebih lanjut silakan hubungi BPJAMSOSTEK melalui layanan 175, Email, Whatsapp atau Sosial media resmi - Meta', 'repliedAt': datetime.datetime(2024, 9, 24, 9, 41, 48), 'appVersion': '4.13.4'}\n"
     ]
    }
   ],
   "source": [
    "print(all_reviews[0])"
   ]
  },
  {
   "cell_type": "code",
   "execution_count": 5,
   "id": "98b50509-2fe9-4e96-ba48-23bb0c1093f9",
   "metadata": {},
   "outputs": [],
   "source": [
    "import csv\n",
    "\n",
    "with open('data_scrape.csv', 'w', newline='') as csvfile:\n",
    "  writer = csv.writer(csvfile)\n",
    "  writer.writerow(['review_pengguna', 'username', 'score', 'replyContent'])\n",
    "  for review in all_reviews:\n",
    "    writer.writerow([\n",
    "        review.get('content', 'N/A'),\n",
    "        review.get('userName', 'N/A'),\n",
    "        review.get('score', 'N/A'),\n",
    "        review.get('replyContent', 'N/A')\n",
    "    ])"
   ]
  },
  {
   "cell_type": "code",
   "execution_count": 6,
   "id": "ced566ab-5ab0-4bb3-b71b-87637d023fc1",
   "metadata": {},
   "outputs": [
    {
     "data": {
      "text/html": [
       "<div>\n",
       "<style scoped>\n",
       "    .dataframe tbody tr th:only-of-type {\n",
       "        vertical-align: middle;\n",
       "    }\n",
       "\n",
       "    .dataframe tbody tr th {\n",
       "        vertical-align: top;\n",
       "    }\n",
       "\n",
       "    .dataframe thead th {\n",
       "        text-align: right;\n",
       "    }\n",
       "</style>\n",
       "<table border=\"1\" class=\"dataframe\">\n",
       "  <thead>\n",
       "    <tr style=\"text-align: right;\">\n",
       "      <th></th>\n",
       "      <th>review_pengguna</th>\n",
       "      <th>username</th>\n",
       "      <th>score</th>\n",
       "      <th>replyContent</th>\n",
       "    </tr>\n",
       "  </thead>\n",
       "  <tbody>\n",
       "    <tr>\n",
       "      <th>0</th>\n",
       "      <td>Sellalu gak ada jaringan</td>\n",
       "      <td>Pengguna Google</td>\n",
       "      <td>2</td>\n",
       "      <td>Yth. Bapak/Ibu pengguna aplikasi BPJS Ketenaga...</td>\n",
       "    </tr>\n",
       "    <tr>\n",
       "      <th>1</th>\n",
       "      <td>memudahkan dalam setiap informasi bagi pekerja...</td>\n",
       "      <td>Pengguna Google</td>\n",
       "      <td>4</td>\n",
       "      <td>Yth. Bapak/Ibu pengguna aplikasi BPJS Ketenaga...</td>\n",
       "    </tr>\n",
       "    <tr>\n",
       "      <th>2</th>\n",
       "      <td>Buruk . Baru download sudah disurur perbarui ....</td>\n",
       "      <td>Pengguna Google</td>\n",
       "      <td>1</td>\n",
       "      <td>Yth. Bapak/Ibu pengguna aplikasi BPJS Ketenaga...</td>\n",
       "    </tr>\n",
       "    <tr>\n",
       "      <th>3</th>\n",
       "      <td>mantap</td>\n",
       "      <td>Pengguna Google</td>\n",
       "      <td>5</td>\n",
       "      <td>Yth. Bapak/Ibu pengguna aplikasi BPJS Ketenaga...</td>\n",
       "    </tr>\n",
       "    <tr>\n",
       "      <th>4</th>\n",
       "      <td>Aplikasi cacat nya minta ampun</td>\n",
       "      <td>Pengguna Google</td>\n",
       "      <td>1</td>\n",
       "      <td>Yth. Bapak/Ibu pengguna aplikasi BPJS Ketenaga...</td>\n",
       "    </tr>\n",
       "    <tr>\n",
       "      <th>...</th>\n",
       "      <td>...</td>\n",
       "      <td>...</td>\n",
       "      <td>...</td>\n",
       "      <td>...</td>\n",
       "    </tr>\n",
       "    <tr>\n",
       "      <th>439739</th>\n",
       "      <td>Coba dlu nnti bintangny d tmbh klo bgs</td>\n",
       "      <td>Pengguna Google</td>\n",
       "      <td>3</td>\n",
       "      <td>Terimakasih Bapak Ibu telah menggunakan aplika...</td>\n",
       "    </tr>\n",
       "    <tr>\n",
       "      <th>439740</th>\n",
       "      <td>Aplikasinya bagus, bpjs ketenagakerjaan memang...</td>\n",
       "      <td>Pengguna Google</td>\n",
       "      <td>5</td>\n",
       "      <td>NaN</td>\n",
       "    </tr>\n",
       "    <tr>\n",
       "      <th>439741</th>\n",
       "      <td>Siiip👍👍👍👍</td>\n",
       "      <td>Pengguna Google</td>\n",
       "      <td>5</td>\n",
       "      <td>NaN</td>\n",
       "    </tr>\n",
       "    <tr>\n",
       "      <th>439742</th>\n",
       "      <td>Cucokk mantep</td>\n",
       "      <td>Pengguna Google</td>\n",
       "      <td>5</td>\n",
       "      <td>NaN</td>\n",
       "    </tr>\n",
       "    <tr>\n",
       "      <th>439743</th>\n",
       "      <td>mantap gannnn 😁</td>\n",
       "      <td>Pengguna Google</td>\n",
       "      <td>5</td>\n",
       "      <td>NaN</td>\n",
       "    </tr>\n",
       "  </tbody>\n",
       "</table>\n",
       "<p>439744 rows × 4 columns</p>\n",
       "</div>"
      ],
      "text/plain": [
       "                                          review_pengguna         username  \\\n",
       "0                                Sellalu gak ada jaringan  Pengguna Google   \n",
       "1       memudahkan dalam setiap informasi bagi pekerja...  Pengguna Google   \n",
       "2       Buruk . Baru download sudah disurur perbarui ....  Pengguna Google   \n",
       "3                                                  mantap  Pengguna Google   \n",
       "4                          Aplikasi cacat nya minta ampun  Pengguna Google   \n",
       "...                                                   ...              ...   \n",
       "439739             Coba dlu nnti bintangny d tmbh klo bgs  Pengguna Google   \n",
       "439740  Aplikasinya bagus, bpjs ketenagakerjaan memang...  Pengguna Google   \n",
       "439741                                          Siiip👍👍👍👍  Pengguna Google   \n",
       "439742                                      Cucokk mantep  Pengguna Google   \n",
       "439743                                    mantap gannnn 😁  Pengguna Google   \n",
       "\n",
       "        score                                       replyContent  \n",
       "0           2  Yth. Bapak/Ibu pengguna aplikasi BPJS Ketenaga...  \n",
       "1           4  Yth. Bapak/Ibu pengguna aplikasi BPJS Ketenaga...  \n",
       "2           1  Yth. Bapak/Ibu pengguna aplikasi BPJS Ketenaga...  \n",
       "3           5  Yth. Bapak/Ibu pengguna aplikasi BPJS Ketenaga...  \n",
       "4           1  Yth. Bapak/Ibu pengguna aplikasi BPJS Ketenaga...  \n",
       "...       ...                                                ...  \n",
       "439739      3  Terimakasih Bapak Ibu telah menggunakan aplika...  \n",
       "439740      5                                                NaN  \n",
       "439741      5                                                NaN  \n",
       "439742      5                                                NaN  \n",
       "439743      5                                                NaN  \n",
       "\n",
       "[439744 rows x 4 columns]"
      ]
     },
     "execution_count": 6,
     "metadata": {},
     "output_type": "execute_result"
    }
   ],
   "source": [
    "data = pd.read_csv('data_scrape.csv')\n",
    "data"
   ]
  },
  {
   "cell_type": "code",
   "execution_count": 7,
   "id": "faa6e499-7fd5-49de-b82e-500d6004172a",
   "metadata": {},
   "outputs": [
    {
     "name": "stdout",
     "output_type": "stream",
     "text": [
      "<class 'pandas.core.frame.DataFrame'>\n",
      "RangeIndex: 439744 entries, 0 to 439743\n",
      "Data columns (total 4 columns):\n",
      " #   Column           Non-Null Count   Dtype \n",
      "---  ------           --------------   ----- \n",
      " 0   review_pengguna  439742 non-null  object\n",
      " 1   username         439744 non-null  object\n",
      " 2   score            439744 non-null  int64 \n",
      " 3   replyContent     175393 non-null  object\n",
      "dtypes: int64(1), object(3)\n",
      "memory usage: 13.4+ MB\n"
     ]
    }
   ],
   "source": [
    "data.info()"
   ]
  },
  {
   "cell_type": "code",
   "execution_count": 8,
   "id": "bdf5a1a6-6ea6-47dd-9b9c-f673b18179bd",
   "metadata": {},
   "outputs": [
    {
     "name": "stdout",
     "output_type": "stream",
     "text": [
      "<class 'pandas.core.frame.DataFrame'>\n",
      "Index: 153728 entries, 0 to 439739\n",
      "Data columns (total 4 columns):\n",
      " #   Column           Non-Null Count   Dtype \n",
      "---  ------           --------------   ----- \n",
      " 0   review_pengguna  153728 non-null  object\n",
      " 1   username         153728 non-null  object\n",
      " 2   score            153728 non-null  int64 \n",
      " 3   replyContent     153728 non-null  object\n",
      "dtypes: int64(1), object(3)\n",
      "memory usage: 5.9+ MB\n"
     ]
    }
   ],
   "source": [
    "clean_data = data.dropna()\n",
    "clean_data = clean_data.drop_duplicates()\n",
    "clean_data.info()"
   ]
  },
  {
   "cell_type": "code",
   "execution_count": null,
   "id": "c03bc3b2-f148-4ff1-875b-0997dd360796",
   "metadata": {},
   "outputs": [],
   "source": []
  }
 ],
 "metadata": {
  "kernelspec": {
   "display_name": "Python 3 (ipykernel)",
   "language": "python",
   "name": "python3"
  },
  "language_info": {
   "codemirror_mode": {
    "name": "ipython",
    "version": 3
   },
   "file_extension": ".py",
   "mimetype": "text/x-python",
   "name": "python",
   "nbconvert_exporter": "python",
   "pygments_lexer": "ipython3",
   "version": "3.12.6"
  }
 },
 "nbformat": 4,
 "nbformat_minor": 5
}
